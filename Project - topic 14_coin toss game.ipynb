{
 "cells": [
  {
   "cell_type": "markdown",
   "id": "4dad9b37",
   "metadata": {},
   "source": [
    "# Project - topic 14 - Coin Toss Game\n",
    "\n",
    "This script is the code that simulates the coin toss game in project topic #14.\n",
    "\n",
    "**The script will:**\n",
    "\n",
    "1. Define a funtion that will simulate a new game.\n",
    "2. Determine how many games (the sapmle size) need to be simulated in order to get a reliable estimate of the number of cycles.\n",
    "3. Simulate the game up to the number of times determined in step 2\n",
    "4. Estimate the expected number of cycles that the game will last for by using the sample mean cycles.\n",
    "5. Perform  further statistical analysis to determine the distribution of the number of cycles, empirical cumulative distribution function (CDF), and the confidence interval of the expected number of  cycles.\n",
    "\n",
    "<br>\n",
    "\n",
    "**This script include following sections:**\n",
    "1. Import Packages\n",
    "2. Define Functions\n",
    "3. Determin Sample Size of the Simulation\n",
    "4. Simulate the game\n",
    "5. Statistical Analysis"
   ]
  },
  {
   "cell_type": "markdown",
   "id": "32482909",
   "metadata": {},
   "source": [
    "## 1. Import Packages\n",
    "The following packages are required to run this script successfully"
   ]
  },
  {
   "cell_type": "code",
   "execution_count": 1,
   "id": "40b08231",
   "metadata": {},
   "outputs": [],
   "source": [
    "import os\n",
    "import sys\n",
    "import random\n",
    "import pandas as pd\n",
    "import numpy as np\n",
    "import math\n",
    "\n",
    "import statsmodels.api as sm\n",
    "from statsmodels.distributions.empirical_distribution import ECDF\n",
    "\n",
    "import matplotlib.pyplot as plt\n",
    "\n",
    "import statistics\n",
    "from statistics import mean\n",
    "from statistics import stdev\n",
    "\n",
    "from scipy import stats\n",
    "\n",
    "from IPython.display import display"
   ]
  },
  {
   "cell_type": "markdown",
   "id": "83c135e6",
   "metadata": {},
   "source": [
    "## 2. Define functions\n",
    "\n",
    "**run_game** - this function will run a new coin toss game. The number of cycles will be returned.\n",
    "\n",
    "<br>\n",
    "Definitions of some Key variables used in the function **run_game**:\n",
    "\n",
    "1. **cycle** - the number of cycles that the current game has went through\n",
    "2. **i** - iteration variable\n",
    "3. **A_coin** - the number of coins that player A has\n",
    "4. **B_coin** - the number of coins that player B has\n",
    "5. **pot_coin** - the number of coins in the pot\n",
    "6. **game_over** - a boolean variable that indicates if the game is over\n",
    "7. **toss** - the number a player obtained after tossing the dice"
   ]
  },
  {
   "cell_type": "code",
   "execution_count": 2,
   "id": "09bb612d",
   "metadata": {},
   "outputs": [],
   "source": [
    "def run_game():\n",
    "    \n",
    "    #---------------- initialize the game ----------------------#\n",
    "    A_coin = 4\n",
    "    B_coin = 4\n",
    "    pot_coin = 2\n",
    "    cycle = 0\n",
    "    game_over = False\n",
    "    \n",
    "    #------------------------ play the game until one player wins -------------------#\n",
    "    while game_over == False:\n",
    "        \n",
    "        #--------------------------------- start a new cycle ------------------------------------------#\n",
    "        cycle = cycle + 1\n",
    "        #print(\"Round:\", cycle)\n",
    "        \n",
    "        #------------ Player A tosses the dice first, obtaining an integer from 0 to 6 ----------------#\n",
    "        toss = math.ceil(random.uniform(0, 6))\n",
    "        #print(\"A toss: \", toss)\n",
    "        \n",
    "        #------------------------------ Player A performs his activities ------------------------------#\n",
    "        if toss == 2:\n",
    "            A_coin = A_coin + pot_coin\n",
    "            pot_coin = 0\n",
    "        elif toss == 3:\n",
    "            A_coin = A_coin + math.floor(pot_coin / 2)\n",
    "            pot_coin = pot_coin - math.floor(pot_coin / 2)\n",
    "        elif (toss >= 4):\n",
    "            if A_coin == 0:\n",
    "                game_over = True\n",
    "                break\n",
    "            else:\n",
    "                A_coin = A_coin - 1\n",
    "                pot_coin = pot_coin + 1\n",
    "        #print(A_coin, B_coin, pot_coin)\n",
    "        \n",
    "        #------------------ Player B tosses the dice, obtaining an integer from 0 to 6 ---------------#\n",
    "        toss = math.ceil(random.uniform(0, 6))\n",
    "        #print(\"B toss: \", toss)\n",
    "        \n",
    "        #-------------------------------- Player B performs his activities ---------------------------#\n",
    "        if toss == 2:\n",
    "            B_coin = B_coin + pot_coin\n",
    "            pot_coin = 0\n",
    "        elif toss == 3:\n",
    "            B_coin = B_coin + math.floor(pot_coin / 2)\n",
    "            pot_coin = pot_coin - math.floor(pot_coin / 2)\n",
    "        elif (toss >= 4):\n",
    "            if B_coin == 0:\n",
    "                game_over = True\n",
    "                break\n",
    "            else:\n",
    "                B_coin = B_coin - 1\n",
    "                pot_coin = pot_coin + 1\n",
    "        #print(A_coin, B_coin, pot_coin)\n",
    "        #print(\"------------------------\")\n",
    "    \n",
    "    return cycle\n",
    "        "
   ]
  },
  {
   "cell_type": "markdown",
   "id": "e8306fbf",
   "metadata": {},
   "source": [
    "## 3. Determin Sample Size of the Simulation"
   ]
  },
  {
   "cell_type": "markdown",
   "id": "da854868",
   "metadata": {},
   "source": [
    "<br>\n",
    "Definitions of some Key variables used in this section:\n",
    "\n",
    "1. **sample sizes** - differnet levels of sample size to compare\n",
    "2. **trial** - number of simulations to run at each sample size level. This variable is set to be 40.\n",
    "3. **cycle** - a list that stores the number of cycles of each simulation. This list will be cleared out after each 40 trials at each sample size level.\n",
    "3. **sample_size_list** - a list that stores the sample size that we have tried.\n",
    "4. **cycle_mean_list** - a list that stores the mean number of cycles for each 40 trial at every sample size level.\n",
    "5. **cycle_mean_df** - this dataframes merges **cycle_mean_list** and **sample_size_list** into one table at each sample size level.\n",
    "6. **cycle_mean_df_list** - a list that containes **cycle_mean_df** at each sample size level\n",
    "7. **cycle_mean_df_merged** - a table that concatenate all the dataframes in **cycle_mean_df_list**. This table contains the mean number of cycles for each 40 trials at each level of sample size."
   ]
  },
  {
   "cell_type": "code",
   "execution_count": 3,
   "id": "c7b70ef0",
   "metadata": {},
   "outputs": [],
   "source": [
    "#--------------- Define the sample sizes to try; Try each sample size with 40 simulations ------------------#\n",
    "sample_sizes = [10,100, 1000, 10000, 100000, 1000000]\n",
    "trial = 40\n",
    "\n",
    "#-------------- The mean of cycles of all the trials will be stored in the following lists ---------------#\n",
    "cycle_mean_df_list = []"
   ]
  },
  {
   "cell_type": "markdown",
   "id": "29fb3958",
   "metadata": {},
   "source": [
    "Run the coin toss game at each sample size level defined in the last step; <br>\n",
    "Run the coin toss game multiple times up to the sample size; <br>\n",
    "Repeat the same process 40 times for each sample size; <br>\n",
    "Record the mean of number of cycles for each trial"
   ]
  },
  {
   "cell_type": "code",
   "execution_count": 4,
   "id": "8c6833dc",
   "metadata": {},
   "outputs": [
    {
     "data": {
      "text/html": [
       "<div>\n",
       "<style scoped>\n",
       "    .dataframe tbody tr th:only-of-type {\n",
       "        vertical-align: middle;\n",
       "    }\n",
       "\n",
       "    .dataframe tbody tr th {\n",
       "        vertical-align: top;\n",
       "    }\n",
       "\n",
       "    .dataframe thead th {\n",
       "        text-align: right;\n",
       "    }\n",
       "</style>\n",
       "<table border=\"1\" class=\"dataframe\">\n",
       "  <thead>\n",
       "    <tr style=\"text-align: right;\">\n",
       "      <th></th>\n",
       "      <th>sample size</th>\n",
       "      <th>mean number of cycles</th>\n",
       "    </tr>\n",
       "  </thead>\n",
       "  <tbody>\n",
       "    <tr>\n",
       "      <th>0</th>\n",
       "      <td>10</td>\n",
       "      <td>15.800000</td>\n",
       "    </tr>\n",
       "    <tr>\n",
       "      <th>1</th>\n",
       "      <td>10</td>\n",
       "      <td>29.800000</td>\n",
       "    </tr>\n",
       "    <tr>\n",
       "      <th>2</th>\n",
       "      <td>10</td>\n",
       "      <td>14.700000</td>\n",
       "    </tr>\n",
       "    <tr>\n",
       "      <th>3</th>\n",
       "      <td>10</td>\n",
       "      <td>16.900000</td>\n",
       "    </tr>\n",
       "    <tr>\n",
       "      <th>4</th>\n",
       "      <td>10</td>\n",
       "      <td>18.900000</td>\n",
       "    </tr>\n",
       "    <tr>\n",
       "      <th>...</th>\n",
       "      <td>...</td>\n",
       "      <td>...</td>\n",
       "    </tr>\n",
       "    <tr>\n",
       "      <th>235</th>\n",
       "      <td>1000000</td>\n",
       "      <td>17.514543</td>\n",
       "    </tr>\n",
       "    <tr>\n",
       "      <th>236</th>\n",
       "      <td>1000000</td>\n",
       "      <td>17.543208</td>\n",
       "    </tr>\n",
       "    <tr>\n",
       "      <th>237</th>\n",
       "      <td>1000000</td>\n",
       "      <td>17.526705</td>\n",
       "    </tr>\n",
       "    <tr>\n",
       "      <th>238</th>\n",
       "      <td>1000000</td>\n",
       "      <td>17.533790</td>\n",
       "    </tr>\n",
       "    <tr>\n",
       "      <th>239</th>\n",
       "      <td>1000000</td>\n",
       "      <td>17.549856</td>\n",
       "    </tr>\n",
       "  </tbody>\n",
       "</table>\n",
       "<p>240 rows × 2 columns</p>\n",
       "</div>"
      ],
      "text/plain": [
       "     sample size  mean number of cycles\n",
       "0             10              15.800000\n",
       "1             10              29.800000\n",
       "2             10              14.700000\n",
       "3             10              16.900000\n",
       "4             10              18.900000\n",
       "..           ...                    ...\n",
       "235      1000000              17.514543\n",
       "236      1000000              17.543208\n",
       "237      1000000              17.526705\n",
       "238      1000000              17.533790\n",
       "239      1000000              17.549856\n",
       "\n",
       "[240 rows x 2 columns]"
      ]
     },
     "metadata": {},
     "output_type": "display_data"
    }
   ],
   "source": [
    "#-------------- Try to run the simulation at different level of sample size -------------------#\n",
    "for sample_size in sample_sizes:\n",
    "    \n",
    "    cycle_list = []\n",
    "    sample_size_list = []\n",
    "    cycle_mean_list = []\n",
    "    \n",
    "    #-------------- repeat 40 (trial = 40) times at each sample size level ----------------------# \n",
    "    for i in range(trial):\n",
    "        cycle_list = []\n",
    "        \n",
    "        #------------- simulate new games and keep records of the number of cycles -----------------#\n",
    "        for j in range(sample_size):\n",
    "            cycle = run_game()\n",
    "            cycle_list += [cycle]\n",
    "            ##print(cycle)\n",
    "        \n",
    "        #------------------------ calculate mean number of cycles --------------------#\n",
    "        cycle_mean = mean(cycle_list) \n",
    "        sample_size_list += [sample_size]\n",
    "        cycle_mean_list += [cycle_mean]\n",
    "    \n",
    "    cycle_mean_df = pd.DataFrame({\"sample size\": sample_size_list,\n",
    "                                  \"mean number of cycles\": cycle_mean_list}) \n",
    "    cycle_mean_df_list += [cycle_mean_df]\n",
    "\n",
    "cycle_mean_df_merged = pd.concat(cycle_mean_df_list).reset_index(drop = True)\n",
    "display(cycle_mean_df_merged)"
   ]
  },
  {
   "cell_type": "code",
   "execution_count": 5,
   "id": "a9be3812",
   "metadata": {},
   "outputs": [
    {
     "data": {
      "image/png": "[encoded data removed]",
      "text/plain": [
       "<Figure size 640x480 with 1 Axes>"
      ]
     },
     "metadata": {},
     "output_type": "display_data"
    }
   ],
   "source": [
    "# display boxplot - the distribution of mean number of cycle for each sample size\n",
    "boxplot = cycle_mean_df_merged.boxplot(column=['mean number of cycles'], by=['sample size'])"
   ]
  },
  {
   "cell_type": "code",
   "execution_count": 6,
   "id": "14b1a37b",
   "metadata": {},
   "outputs": [
    {
     "data": {
      "text/html": [
       "<div>\n",
       "<style scoped>\n",
       "    .dataframe tbody tr th:only-of-type {\n",
       "        vertical-align: middle;\n",
       "    }\n",
       "\n",
       "    .dataframe tbody tr th {\n",
       "        vertical-align: top;\n",
       "    }\n",
       "\n",
       "    .dataframe thead th {\n",
       "        text-align: right;\n",
       "    }\n",
       "</style>\n",
       "<table border=\"1\" class=\"dataframe\">\n",
       "  <thead>\n",
       "    <tr style=\"text-align: right;\">\n",
       "      <th></th>\n",
       "      <th>sample size</th>\n",
       "      <th>sample standard deviation</th>\n",
       "    </tr>\n",
       "  </thead>\n",
       "  <tbody>\n",
       "    <tr>\n",
       "      <th>0</th>\n",
       "      <td>10</td>\n",
       "      <td>4.611023</td>\n",
       "    </tr>\n",
       "    <tr>\n",
       "      <th>1</th>\n",
       "      <td>100</td>\n",
       "      <td>1.244432</td>\n",
       "    </tr>\n",
       "    <tr>\n",
       "      <th>2</th>\n",
       "      <td>1000</td>\n",
       "      <td>0.439836</td>\n",
       "    </tr>\n",
       "    <tr>\n",
       "      <th>3</th>\n",
       "      <td>10000</td>\n",
       "      <td>0.145223</td>\n",
       "    </tr>\n",
       "    <tr>\n",
       "      <th>4</th>\n",
       "      <td>100000</td>\n",
       "      <td>0.039339</td>\n",
       "    </tr>\n",
       "    <tr>\n",
       "      <th>5</th>\n",
       "      <td>1000000</td>\n",
       "      <td>0.011675</td>\n",
       "    </tr>\n",
       "  </tbody>\n",
       "</table>\n",
       "</div>"
      ],
      "text/plain": [
       "   sample size  sample standard deviation\n",
       "0           10                   4.611023\n",
       "1          100                   1.244432\n",
       "2         1000                   0.439836\n",
       "3        10000                   0.145223\n",
       "4       100000                   0.039339\n",
       "5      1000000                   0.011675"
      ]
     },
     "execution_count": 6,
     "metadata": {},
     "output_type": "execute_result"
    }
   ],
   "source": [
    "#Display the sample standard deviation of mean number of cycles at each sample size level\n",
    "pd.DataFrame(cycle_mean_df_merged.groupby(['sample size'])['mean number of cycles'].std()\n",
    "                                 .reset_index()\n",
    "                                 .rename(columns = {\"mean number of cycles\": \"sample standard deviation\"}))"
   ]
  },
  {
   "cell_type": "markdown",
   "id": "b9a2d472",
   "metadata": {},
   "source": [
    "## 4. Simulate the game\n",
    "\n",
    "Definitions of some Key variables used in the Main program:\n",
    "1. **ngames** - number of games to simulate\n",
    "2. **cycle** - the number of cycles of each game simulation\n",
    "3. **cycle_list** - a list that stores the number of cycles of all the simulations\n",
    "4. **cycle_df** - a pandas dataframe that stores the same data as **cycle_list**\n",
    "5. **cycle_mean** - mean of the number of cycles of all simulations\n",
    "6. **cycle_stdev** - standard deviation of the number of cycles of allsimulations\n",
    "7. **i** - iteration variable"
   ]
  },
  {
   "cell_type": "markdown",
   "id": "2a78fb0a",
   "metadata": {},
   "source": [
    "**Initialize the program** <br>\n",
    "From the previous step, the sample standard deviation is around 0.01 at sample size of 1,000,000.\n",
    "This is good enough to generate a reliable estimate. Therefore, we are going to estimate the number of cycles of a game by simulating 1,000,000 games."
   ]
  },
  {
   "cell_type": "code",
   "execution_count": 7,
   "id": "e8a6380a",
   "metadata": {},
   "outputs": [],
   "source": [
    "#--------------- Define the number of games to run ------------------#\n",
    "ngames = 1000000\n",
    "\n",
    "#--------- The number of cycles of all the simulations will be stored in the following list ---------#\n",
    "cycle_list = []"
   ]
  },
  {
   "cell_type": "markdown",
   "id": "8056697f",
   "metadata": {},
   "source": [
    "**Run the coin toss games up to the number of times defined in the last step**"
   ]
  },
  {
   "cell_type": "code",
   "execution_count": 8,
   "id": "f36b63c5",
   "metadata": {},
   "outputs": [],
   "source": [
    "#------------------- simulate 1,000,000 games (ggame = 1,000,000) -------------------------#\n",
    "for i in range(ngames):\n",
    "    \n",
    "    #------------- simulate a new game and keep a record of the number of cycles -----------------#\n",
    "    cycle = run_game()\n",
    "    cycle_list += [cycle]\n",
    "    ##print(cycle)"
   ]
  },
  {
   "cell_type": "markdown",
   "id": "7515cd22",
   "metadata": {},
   "source": [
    "## 5. Statistical Analysis"
   ]
  },
  {
   "cell_type": "markdown",
   "id": "2af37eea",
   "metadata": {},
   "source": [
    "**Print the simulation results and descriptive statics**"
   ]
  },
  {
   "cell_type": "code",
   "execution_count": 9,
   "id": "3dde740a",
   "metadata": {},
   "outputs": [
    {
     "name": "stdout",
     "output_type": "stream",
     "text": [
      "Mean of the number of cycles:  17.5504\n",
      "Standard Deviation of the number of cycles:  12.7825\n"
     ]
    },
    {
     "data": {
      "text/html": [
       "<div>\n",
       "<style scoped>\n",
       "    .dataframe tbody tr th:only-of-type {\n",
       "        vertical-align: middle;\n",
       "    }\n",
       "\n",
       "    .dataframe tbody tr th {\n",
       "        vertical-align: top;\n",
       "    }\n",
       "\n",
       "    .dataframe thead th {\n",
       "        text-align: right;\n",
       "    }\n",
       "</style>\n",
       "<table border=\"1\" class=\"dataframe\">\n",
       "  <thead>\n",
       "    <tr style=\"text-align: right;\">\n",
       "      <th></th>\n",
       "      <th>Descriptive Statistics</th>\n",
       "    </tr>\n",
       "  </thead>\n",
       "  <tbody>\n",
       "    <tr>\n",
       "      <th>count</th>\n",
       "      <td>1000000.00</td>\n",
       "    </tr>\n",
       "    <tr>\n",
       "      <th>mean</th>\n",
       "      <td>17.55</td>\n",
       "    </tr>\n",
       "    <tr>\n",
       "      <th>std</th>\n",
       "      <td>12.78</td>\n",
       "    </tr>\n",
       "    <tr>\n",
       "      <th>min</th>\n",
       "      <td>5.00</td>\n",
       "    </tr>\n",
       "    <tr>\n",
       "      <th>25%</th>\n",
       "      <td>8.00</td>\n",
       "    </tr>\n",
       "    <tr>\n",
       "      <th>50%</th>\n",
       "      <td>14.00</td>\n",
       "    </tr>\n",
       "    <tr>\n",
       "      <th>75%</th>\n",
       "      <td>23.00</td>\n",
       "    </tr>\n",
       "    <tr>\n",
       "      <th>max</th>\n",
       "      <td>226.00</td>\n",
       "    </tr>\n",
       "  </tbody>\n",
       "</table>\n",
       "</div>"
      ],
      "text/plain": [
       "       Descriptive Statistics\n",
       "count              1000000.00\n",
       "mean                    17.55\n",
       "std                     12.78\n",
       "min                      5.00\n",
       "25%                      8.00\n",
       "50%                     14.00\n",
       "75%                     23.00\n",
       "max                    226.00"
      ]
     },
     "metadata": {},
     "output_type": "display_data"
    }
   ],
   "source": [
    "#----------------- convert cycle_list into a column of a pandas data frame ---------------#\n",
    "cycle_df = pd.DataFrame({'cycle': cycle_list})\n",
    "##display(cycle_df)\n",
    "\n",
    "#---------------- display mean and standard deviation of the results ---------------------#\n",
    "cycle_mean = mean(cycle_df['cycle'])\n",
    "cycle_stdev = stdev(cycle_df['cycle'])\n",
    "print(\"Mean of the number of cycles: \", round(cycle_mean, 4))\n",
    "print(\"Standard Deviation of the number of cycles: \", round(cycle_stdev, 4))\n",
    "\n",
    "display(round(cycle_df.describe()\n",
    "                      .rename(columns = {\"cycle\": \"Descriptive Statistics\"}), 2))"
   ]
  },
  {
   "cell_type": "markdown",
   "id": "006fe524",
   "metadata": {},
   "source": [
    "**Calculate the 95% confidence interval (two sided) of the mean numberof cycles** "
   ]
  },
  {
   "cell_type": "code",
   "execution_count": 10,
   "id": "93e14ddf",
   "metadata": {},
   "outputs": [
    {
     "name": "stdout",
     "output_type": "stream",
     "text": [
      "z score of 95% confidence interval:  1.95996\n"
     ]
    }
   ],
   "source": [
    "#---retrieve the z-score of normal distribution to calculate the 95% confidence interval (two-sided) of the number of cycles-----#\n",
    "z_score = stats.norm.ppf(.975)\n",
    "print(\"z score of 95% confidence interval: \", round(z_score, 5))"
   ]
  },
  {
   "cell_type": "markdown",
   "id": "c28f90c5",
   "metadata": {},
   "source": [
    "The 95% confidence interval of the number of cycles shoud be: <br>\n",
    "$$\n",
    "(\\bar{X_{n}} - Z \\times \\frac{\\hat{\\sigma}}{\\sqrt{n}}  ,  \\bar{X_{n}} + Z \\times \\frac{\\hat{\\sigma}}{\\sqrt{n}})\n",
    "$$\n",
    "\n",
    "where $\\bar{X_{n}}$ represents sample mean of the number of cycle of all the simulated games; $\\hat{\\sigma}$ represents the sample standard deviation of mean number of cycles; $n$ represents the sample size which equals 1,000,000."
   ]
  },
  {
   "cell_type": "code",
   "execution_count": 11,
   "id": "f8306f2d",
   "metadata": {},
   "outputs": [
    {
     "name": "stdout",
     "output_type": "stream",
     "text": [
      "The 95% confidence interval (two-sided) of the number of cycles is ( 17.52533 , 17.57543 )\n"
     ]
    }
   ],
   "source": [
    "#--------------- calculate 95% confidence interval -----------------------#\n",
    "print(\"The 95% confidence interval (two-sided) of the number of cycles is (\",\n",
    "      round(cycle_mean - z_score * cycle_stdev / math.sqrt(ngames), 5), \",\",\n",
    "      round(cycle_mean + z_score * cycle_stdev / math.sqrt(ngames), 5), \")\")"
   ]
  },
  {
   "cell_type": "markdown",
   "id": "bea6fded",
   "metadata": {},
   "source": [
    "**Print out the histogram of the number of cycles**"
   ]
  },
  {
   "cell_type": "code",
   "execution_count": 12,
   "id": "eaf0580f",
   "metadata": {},
   "outputs": [
    {
     "data": {
      "image/png": "[encoded data removed]",
      "text/plain": [
       "<Figure size 640x480 with 1 Axes>"
      ]
     },
     "metadata": {},
     "output_type": "display_data"
    }
   ],
   "source": [
    "#------------------- Print the histogram of the number of cycles ------------------------#\n",
    "cycle_df['cycle'].plot.hist(grid = True, bins = 40, rwidth = 0.9,)\n",
    "plt.title('Number of Cycles of 1,000,000 Simulated Games')\n",
    "plt.ylabel('Counts')\n",
    "plt.xlabel('Number of Cycles')\n",
    "plt.grid(axis = 'x')"
   ]
  },
  {
   "cell_type": "markdown",
   "id": "1d4c551d",
   "metadata": {},
   "source": [
    "**Generate empirical cumulative distribution function (CDF)**"
   ]
  },
  {
   "cell_type": "code",
   "execution_count": 13,
   "id": "58d0ad63",
   "metadata": {},
   "outputs": [
    {
     "name": "stdout",
     "output_type": "stream",
     "text": [
      "[0.061575 0.061575 0.061575 ... 0.999999 0.999999 1.      ]\n"
     ]
    },
    {
     "data": {
      "image/png": "[encoded data removed]",
      "text/plain": [
       "<Figure size 640x480 with 1 Axes>"
      ]
     },
     "metadata": {},
     "output_type": "display_data"
    }
   ],
   "source": [
    "cycle_list.sort()\n",
    "\n",
    "ecdf = sm.distributions.ECDF(cycle_list)\n",
    "\n",
    "empirical_cdf = ecdf(cycle_list)\n",
    "print(empirical_cdf)\n",
    "\n",
    "\n",
    "#-------------------------- print empirical CDF in a line chart ------------------------#\n",
    "plt.step(cycle_list, empirical_cdf)\n",
    "plt.title('Empirical CDF of the Number of Cycles')\n",
    "plt.show()"
   ]
  }
 ],
 "metadata": {
  "kernelspec": {
   "display_name": "Python 3 (ipykernel)",
   "language": "python",
   "name": "python3"
  },
  "language_info": {
   "codemirror_mode": {
    "name": "ipython",
    "version": 3
   },
   "file_extension": ".py",
   "mimetype": "text/x-python",
   "name": "python",
   "nbconvert_exporter": "python",
   "pygments_lexer": "ipython3",
   "version": "3.9.13"
  }
 },
 "nbformat": 4,
 "nbformat_minor": 5
}
